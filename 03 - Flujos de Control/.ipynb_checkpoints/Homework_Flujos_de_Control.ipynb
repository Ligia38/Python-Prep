{
 "cells": [
  {
   "cell_type": "markdown",
   "metadata": {},
   "source": [
    "# Homework 2: Flujos de Control"
   ]
  },
  {
   "cell_type": "markdown",
   "metadata": {},
   "source": [
    "**1. Crear una variable que contenga un elemento del conjunto de números enteros y luego imprimir por pantalla si es mayor o menor a cero**"
   ]
  },
  {
   "cell_type": "code",
   "execution_count": 1,
   "metadata": {},
   "outputs": [
    {
     "name": "stdout",
     "output_type": "stream",
     "text": [
      "-8 -> the number is less tha zero\n"
     ]
    }
   ],
   "source": [
    "import random\n",
    "# randrabge(a, b, salto)\n",
    "\n",
    "random_number = random.randrange(-10,10,1)\n",
    "if random_number < 0:\n",
    "    print(random_number, '-> the number is less tha zero')\n",
    "elif random_number == 0:\n",
    "    print(random_number, '-> the number is zero')\n",
    "else:\n",
    "    print(random_number, '-> the number is greatter than zero')"
   ]
  },
  {
   "cell_type": "markdown",
   "metadata": {},
   "source": [
    "**2. Crear dos variables y un condicional que informe si son del mismo tipo de dato**"
   ]
  },
  {
   "cell_type": "code",
   "execution_count": null,
   "metadata": {},
   "outputs": [],
   "source": [
    "var_1 = 3\n",
    "var_2 = '3'\n",
    "\n",
    "if var_1 == var_2:\n",
    "    print('are equals')\n",
    "else:\n",
    "    print('are not equals')"
   ]
  },
  {
   "cell_type": "markdown",
   "metadata": {},
   "source": [
    "**3. Para los valores del 1 al 20, imprimir por pantalla si es par o impar**"
   ]
  },
  {
   "cell_type": "code",
   "execution_count": 6,
   "metadata": {},
   "outputs": [
    {
     "name": "stdout",
     "output_type": "stream",
     "text": [
      "1 odd\n",
      "2 pair\n",
      "3 odd\n",
      "4 pair\n",
      "5 odd\n",
      "6 pair\n",
      "7 odd\n",
      "8 pair\n",
      "9 odd\n",
      "10 pair\n",
      "11 odd\n",
      "12 pair\n",
      "13 odd\n",
      "14 pair\n",
      "15 odd\n",
      "16 pair\n",
      "17 odd\n",
      "18 pair\n",
      "19 odd\n",
      "20 pair\n"
     ]
    }
   ],
   "source": [
    "for i in range(1,21):\n",
    "    if i % 2 == 0:\n",
    "        print(i, 'pair')\n",
    "    else:\n",
    "        print(i, 'odd')"
   ]
  },
  {
   "cell_type": "markdown",
   "metadata": {},
   "source": [
    "**4. En un ciclo for mostar para los valores entre 0 y 5 el resultado de elevarlo a la potecia igual a 3**"
   ]
  },
  {
   "cell_type": "code",
   "execution_count": 1,
   "metadata": {},
   "outputs": [
    {
     "name": "stdout",
     "output_type": "stream",
     "text": [
      "0 0\n",
      "1 1\n",
      "2 8\n",
      "3 27\n",
      "4 64\n",
      "5 125\n"
     ]
    }
   ],
   "source": [
    "for i in range(6):\n",
    "    print(i, i ** 3)"
   ]
  },
  {
   "cell_type": "markdown",
   "metadata": {},
   "source": [
    "**5. Crear una variable que contenga un número entero y realizar un ciclo for la misma cantidad de ciclos**"
   ]
  },
  {
   "cell_type": "code",
   "execution_count": 7,
   "metadata": {},
   "outputs": [
    {
     "name": "stdout",
     "output_type": "stream",
     "text": [
      "0\n",
      "1\n",
      "2\n",
      "3\n",
      "4\n",
      "5\n",
      "6\n",
      "7\n",
      "7\n"
     ]
    }
   ],
   "source": [
    "var_i = 8\n",
    "for i in range(var_i):\n",
    "    print(i)"
   ]
  },
  {
   "cell_type": "markdown",
   "metadata": {},
   "source": [
    "**6. Utilizar un ciclo while para realizar el factorial de un número guardado en una variable, sólo si la variable contiene un número entero mayor que 0**"
   ]
  },
  {
   "cell_type": "code",
   "execution_count": 9,
   "metadata": {},
   "outputs": [
    {
     "name": "stdout",
     "output_type": "stream",
     "text": [
      "6\n",
      "720\n"
     ]
    }
   ],
   "source": [
    "n = random.randrange(-10,10,1)\n",
    "print(n)\n",
    "fact = 1\n",
    "if n > 0:\n",
    "    while n > 1:\n",
    "        fact *= n\n",
    "        n -= 1\n",
    "    print(fact)\n",
    "else:\n",
    "    print('Error')"
   ]
  },
  {
   "cell_type": "markdown",
   "metadata": {},
   "source": [
    "**7. Crear un ciclo for dentro de un ciclo while**"
   ]
  },
  {
   "cell_type": "code",
   "execution_count": 1,
   "metadata": {},
   "outputs": [
    {
     "name": "stdout",
     "output_type": "stream",
     "text": [
      "while:0\n",
      "for:0\n",
      "for:1\n",
      "for:2\n",
      "while:1\n",
      "for:0\n",
      "for:1\n",
      "for:2\n",
      "while:2\n",
      "for:0\n",
      "for:1\n",
      "for:2\n"
     ]
    }
   ],
   "source": [
    "x = 0\n",
    "while x < 3:\n",
    "    print('while:' + str(x))\n",
    "    x += 1\n",
    "    for item in range(3):\n",
    "        print('for:' + str(item))"
   ]
  },
  {
   "cell_type": "markdown",
   "metadata": {},
   "source": [
    "**8. Crear un ciclo while dentro de un ciclo for**"
   ]
  },
  {
   "cell_type": "code",
   "execution_count": 2,
   "metadata": {},
   "outputs": [
    {
     "name": "stdout",
     "output_type": "stream",
     "text": [
      "for:0\n",
      "while:0\n",
      "while:1\n",
      "while:2\n",
      "for:1\n",
      "while:0\n",
      "while:1\n",
      "while:2\n",
      "for:2\n",
      "while:0\n",
      "while:1\n",
      "while:2\n"
     ]
    }
   ],
   "source": [
    "x = 0\n",
    "for i in range(3):\n",
    "    print('for:' + str(i))\n",
    "    while x < 3:\n",
    "        print('while:' + str(x))\n",
    "        x += 1\n",
    "    x = 0"
   ]
  },
  {
   "cell_type": "markdown",
   "metadata": {},
   "source": [
    "**9. Imprimir los números primos existentes entre 0 y 30**"
   ]
  },
  {
   "cell_type": "code",
   "execution_count": 12,
   "metadata": {},
   "outputs": [
    {
     "name": "stdout",
     "output_type": "stream",
     "text": [
      "0\n",
      "1\n",
      "2\n",
      "3\n",
      "5\n",
      "7\n",
      "11\n",
      "13\n",
      "17\n",
      "19\n",
      "23\n",
      "29\n",
      "Ciclos sin utilizar el Break: 406\n"
     ]
    }
   ],
   "source": [
    "flag = True\n",
    "total_cycles = 0\n",
    "for i in range(0, 31):\n",
    "    for j in range (2, i):\n",
    "        total_cycles += 1\n",
    "        if (i % j == 0):\n",
    "            flag = False\n",
    "    if (flag):\n",
    "        print(i)\n",
    "    else:\n",
    "        flag = True\n",
    "print('Ciclos sin utilizar el Break: ' + str(total_cycles))"
   ]
  },
  {
   "cell_type": "markdown",
   "metadata": {},
   "source": [
    "**10. ¿Se puede mejorar el proceso del punto 9? Utilizar las sentencias ```break``` y/ó ```continue``` para tal fin**"
   ]
  },
  {
   "cell_type": "code",
   "execution_count": 2,
   "metadata": {},
   "outputs": [
    {
     "name": "stdout",
     "output_type": "stream",
     "text": [
      "0\n",
      "1\n",
      "2\n",
      "3\n",
      "5\n",
      "7\n",
      "11\n",
      "13\n",
      "17\n",
      "19\n",
      "23\n",
      "29\n"
     ]
    }
   ],
   "source": [
    "flag = True\n",
    "for i in range(0, 31):\n",
    "    for j in range(2, i):\n",
    "        if i % j == 0:\n",
    "            flag = False\n",
    "            break\n",
    "    if flag == True:\n",
    "        print(i)\n",
    "    else:\n",
    "        flag = True"
   ]
  },
  {
   "cell_type": "markdown",
   "metadata": {},
   "source": [
    "**11. En los puntos 9 y 10, se diseñó un código que encuentra números primos y además se optimizó. ¿Es posible saber en qué medida se optimizó?**"
   ]
  },
  {
   "cell_type": "code",
   "execution_count": 12,
   "metadata": {},
   "outputs": [
    {
     "name": "stdout",
     "output_type": "stream",
     "text": [
      "0\n",
      "1\n",
      "2\n",
      "3\n",
      "5\n",
      "7\n",
      "11\n",
      "13\n",
      "17\n",
      "19\n",
      "23\n",
      "29\n",
      "Cantidad de ciclos: 135\n",
      "Se optimizó a un 33.251231527093594% de ciclos aplicando break\n"
     ]
    }
   ],
   "source": [
    "flag = True\n",
    "break_cycles = 0\n",
    "for i in range(0, 31):\n",
    "    for j in range(2, i):\n",
    "        break_cycles += 1\n",
    "        if (i % j == 0):\n",
    "            flag = False\n",
    "            break\n",
    "    if (flag):\n",
    "        print(i)\n",
    "    else:\n",
    "        flag = True\n",
    "print('Cantidad de ciclos: ' + str(break_cycles))\n",
    "print('Se optimizó a un ' + str(break_cycles / 406 * 100) + \n",
    "      '% de ciclos aplicando break')"
   ]
  },
  {
   "cell_type": "markdown",
   "metadata": {},
   "source": [
    "**12. Si la cantidad de números que se evalúa es mayor a treinta, esa optimización crece?**"
   ]
  },
  {
   "cell_type": "code",
   "execution_count": 14,
   "metadata": {},
   "outputs": [
    {
     "name": "stdout",
     "output_type": "stream",
     "text": [
      "0\n",
      "1\n",
      "2\n",
      "3\n",
      "5\n",
      "7\n",
      "11\n",
      "13\n",
      "17\n",
      "19\n",
      "23\n",
      "29\n",
      "31\n",
      "37\n",
      "41\n",
      "43\n",
      "47\n",
      "53\n",
      "59\n",
      "61\n",
      "67\n",
      "71\n",
      "73\n",
      "79\n",
      "83\n",
      "89\n",
      "97\n",
      "Ciclos sin utilizar el Break: 4753\n"
     ]
    }
   ],
   "source": [
    "flag = True\n",
    "total_cycles = 0\n",
    "for i in range(0, 100):\n",
    "    for j in range (2, i):\n",
    "        total_cycles += 1\n",
    "        if (i % j == 0):\n",
    "            flag = False\n",
    "    if (flag):\n",
    "        print(i)\n",
    "    else:\n",
    "        flag = True\n",
    "print('Ciclos sin utilizar el Break: ' + str(total_cycles))"
   ]
  },
  {
   "cell_type": "code",
   "execution_count": 15,
   "metadata": {},
   "outputs": [
    {
     "name": "stdout",
     "output_type": "stream",
     "text": [
      "0\n",
      "1\n",
      "2\n",
      "3\n",
      "5\n",
      "7\n",
      "11\n",
      "13\n",
      "17\n",
      "19\n",
      "23\n",
      "29\n",
      "31\n",
      "37\n",
      "41\n",
      "43\n",
      "47\n",
      "53\n",
      "59\n",
      "61\n",
      "67\n",
      "71\n",
      "73\n",
      "79\n",
      "83\n",
      "89\n",
      "97\n",
      "Cantidad de ciclos: 1132\n",
      "Se optimizó a un 278.81773399014776% de ciclos aplicando break\n"
     ]
    }
   ],
   "source": [
    "flag = True\n",
    "break_cycles = 0\n",
    "for i in range(0, 100):\n",
    "    for j in range(2, i):\n",
    "        break_cycles += 1\n",
    "        if (i % j == 0):\n",
    "            flag = False\n",
    "            break\n",
    "    if (flag):\n",
    "        print(i)\n",
    "    else:\n",
    "        flag = True\n",
    "print('Cantidad de ciclos: ' + str(break_cycles))\n",
    "print('Se optimizó a un ' + str(break_cycles / 406 * 100) + \n",
    "      '% de ciclos aplicando break')"
   ]
  },
  {
   "cell_type": "markdown",
   "metadata": {},
   "source": [
    "**13. Aplicando continue, armar un ciclo while que solo imprima los valores divisibles por 12, dentro del rango de números de 100 a 300**"
   ]
  },
  {
   "cell_type": "code",
   "execution_count": 17,
   "metadata": {},
   "outputs": [
    {
     "name": "stdout",
     "output_type": "stream",
     "text": [
      "108\n",
      "120\n",
      "132\n",
      "144\n",
      "156\n",
      "168\n",
      "180\n",
      "192\n",
      "204\n",
      "216\n",
      "228\n",
      "240\n",
      "252\n",
      "264\n",
      "276\n",
      "288\n",
      "300\n"
     ]
    }
   ],
   "source": [
    "n = 100\n",
    "while(n <= 300):\n",
    "    n += 1\n",
    "    if (n % 12 != 0):\n",
    "        continue\n",
    "    print(n)"
   ]
  },
  {
   "cell_type": "markdown",
   "metadata": {},
   "source": [
    "**14. Utilizar la función `input()` que permite hacer ingresos por teclado, para encontrar números primos y dar la opción al usuario de buscar el siguiente**"
   ]
  },
  {
   "cell_type": "code",
   "execution_count": 20,
   "metadata": {},
   "outputs": [
    {
     "name": "stdout",
     "output_type": "stream",
     "text": [
      "1\n",
      "¿Desea encontrar el siguiente número primo?\n"
     ]
    }
   ],
   "source": [
    "n = 1\n",
    "following = 1\n",
    "prime = True\n",
    "while (following == 1):\n",
    "    for div in range(2, n):\n",
    "        if (n % div == 0):\n",
    "            prime = False\n",
    "            break\n",
    "    if (prime):\n",
    "        print(n)\n",
    "        print('¿Desea encontrar el siguiente número primo?')\n",
    "        if (input() != '1'):\n",
    "            print('Se finaliza el proceso')\n",
    "            break\n",
    "    else:\n",
    "        prime = True\n",
    "    n += 1"
   ]
  },
  {
   "cell_type": "markdown",
   "metadata": {},
   "source": [
    "**15. Crear un ciclo while que encuentre dentro del rango de 100 a 300 el primer número divisible por 3 y además múltiplo de 6**"
   ]
  },
  {
   "cell_type": "code",
   "execution_count": 19,
   "metadata": {},
   "outputs": [
    {
     "name": "stdout",
     "output_type": "stream",
     "text": [
      "102\n"
     ]
    }
   ],
   "source": [
    "n = 100\n",
    "while (n <= 300):\n",
    "    if (n % 6 == 0):\n",
    "        print(n)\n",
    "        break\n",
    "    n += 1"
   ]
  }
 ],
 "metadata": {
  "kernelspec": {
   "display_name": "Python 3.10.4 64-bit",
   "language": "python",
   "name": "python3"
  },
  "language_info": {
   "codemirror_mode": {
    "name": "ipython",
    "version": 3
   },
   "file_extension": ".py",
   "mimetype": "text/x-python",
   "name": "python",
   "nbconvert_exporter": "python",
   "pygments_lexer": "ipython3",
   "version": "3.10.4"
  },
  "orig_nbformat": 4,
  "vscode": {
   "interpreter": {
    "hash": "916dbcbb3f70747c44a77c7bcd40155683ae19c65e1c03b4aa3499c5328201f1"
   }
  }
 },
 "nbformat": 4,
 "nbformat_minor": 2
}
